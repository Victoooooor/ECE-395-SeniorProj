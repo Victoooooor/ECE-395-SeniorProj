{
 "cells": [
  {
   "cell_type": "code",
   "execution_count": 2,
   "metadata": {
    "collapsed": true
   },
   "outputs": [
    {
     "ename": "TypeError",
     "evalue": "display() missing 1 required positional argument: 'd'",
     "output_type": "error",
     "traceback": [
      "\u001B[0;31m---------------------------------------------------------------------------\u001B[0m",
      "\u001B[0;31mTypeError\u001B[0m                                 Traceback (most recent call last)",
      "Input \u001B[0;32mIn [2]\u001B[0m, in \u001B[0;36m<module>\u001B[0;34m\u001B[0m\n\u001B[1;32m     30\u001B[0m \u001B[38;5;28;01mif\u001B[39;00m \u001B[38;5;18m__name__\u001B[39m \u001B[38;5;241m==\u001B[39m \u001B[38;5;124m\"\u001B[39m\u001B[38;5;124m__main__\u001B[39m\u001B[38;5;124m\"\u001B[39m:\n\u001B[1;32m     31\u001B[0m     image \u001B[38;5;241m=\u001B[39m Image\u001B[38;5;241m.\u001B[39mopen(\u001B[38;5;124m'\u001B[39m\u001B[38;5;124m./img/test4.jpg\u001B[39m\u001B[38;5;124m'\u001B[39m)\n\u001B[0;32m---> 32\u001B[0m     \u001B[43mdisplay\u001B[49m\u001B[43m(\u001B[49m\u001B[43mimage\u001B[49m\u001B[43m)\u001B[49m\n\u001B[1;32m     33\u001B[0m     \u001B[38;5;66;03m# convert image to numpy array\u001B[39;00m\n\u001B[1;32m     34\u001B[0m     data \u001B[38;5;241m=\u001B[39m np\u001B[38;5;241m.\u001B[39masarray(image)\n",
      "\u001B[0;31mTypeError\u001B[0m: display() missing 1 required positional argument: 'd'"
     ]
    }
   ],
   "source": [
    "from Tools.scripts.dutree import display\n",
    "#!/usr/bin/python\n",
    "#  ================================================================\n",
    "#  Created by Gregory Kramida on 7/20/18.\n",
    "#  Copyright (c) 2018 Gregory Kramida\n",
    "#  Licensed under the Apache License, Version 2.0 (the \"License\");\n",
    "#  you may not use this file except in compliance with the License.\n",
    "#  You may obtain a copy of the License at\n",
    "#\n",
    "#  http://www.apache.org/licenses/LICENSE-2.0\n",
    "#\n",
    "#  Unless required by applicable law or agreed to in writing, software\n",
    "#  distributed under the License is distributed on an \"AS IS\" BASIS,\n",
    "#  WITHOUT WARRANTIES OR CONDITIONS OF ANY KIND, either express or implied.\n",
    "#  See the License for the specific language governing permissions and\n",
    "#  limitations under the License.\n",
    "#  ================================================================\n",
    "\n",
    "import cv2\n",
    "import numpy as np\n",
    "import BN_Sample\n",
    "from PIL import Image\n",
    "import numpy as np\n",
    "# load the image\n",
    "import matplotlib.pyplot as plt\n",
    "\n",
    "# Used to test the code for memory leaks: requires an OpenCV-compatible webcam to be connected to the system\n",
    "# If there is a memory leak in the conversion, memory used by the program should grow to eventually overwhelm\n",
    "# the system; memory usage monitors may be used to check the behavior\n",
    "if __name__ == \"__main__\":\n",
    "    image = Image.open('./img/test4.jpg')\n",
    "    \n",
    "    # convert image to numpy array\n",
    "    data = np.asarray(image)\n",
    "    print(type(data[1,1,1]))\n",
    "    Sampler = BN_Sample.ImageQuasisampler()\n",
    "    Sampler.loadImg(data,100.0)\n",
    "    Sampled = Sampler.getSampledPoints()\n",
    "    x = Sampled[:,0]\n",
    "    y = Sampled[:,1]\n",
    "    plt.scatter(x,y)\n",
    "    plt.show()\n",
    "    # create Pillow image\n",
    "    # image2 = Image.fromarray(data)\n",
    "\n",
    "    # cap = cv2.VideoCapture(0)\n",
    "    # can_capture = True\n",
    "    # while can_capture:\n",
    "    #     can_capture, frame = cap.read()\n",
    "    #     cv2.imshow('video', frame)\n",
    "    #     ch = 0xFF & cv2.waitKey(1)\n",
    "    #     frame_copy = frame.copy()\n",
    "    #     if ch == 27:\n",
    "    #         break\n",
    "    #     BN_Sample.increment_elements_by_one(frame)\n",
    "    #     sum = (np.sum(frame - frame_copy) / (frame.size/3))\n",
    "    #     #print(sum)\n",
    "    # print(\"exiting...\")\n"
   ]
  }
 ],
 "metadata": {
  "kernelspec": {
   "display_name": "Python 3",
   "language": "python",
   "name": "python3"
  },
  "language_info": {
   "codemirror_mode": {
    "name": "ipython",
    "version": 2
   },
   "file_extension": ".py",
   "mimetype": "text/x-python",
   "name": "python",
   "nbconvert_exporter": "python",
   "pygments_lexer": "ipython2",
   "version": "2.7.6"
  }
 },
 "nbformat": 4,
 "nbformat_minor": 0
}